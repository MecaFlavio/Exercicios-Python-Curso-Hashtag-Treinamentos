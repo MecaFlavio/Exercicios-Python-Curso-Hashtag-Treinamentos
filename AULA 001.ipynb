{
 "cells": [
  {
   "cell_type": "markdown",
   "id": "da5e07e8",
   "metadata": {},
   "source": [
    "# Meu Primeiro Programa"
   ]
  },
  {
   "cell_type": "code",
   "execution_count": 3,
   "id": "4d7a2030",
   "metadata": {},
   "outputs": [
    {
     "name": "stdout",
     "output_type": "stream",
     "text": [
      "123\n"
     ]
    }
   ],
   "source": [
    "print(123)"
   ]
  },
  {
   "cell_type": "code",
   "execution_count": 4,
   "id": "ade3922c",
   "metadata": {},
   "outputs": [
    {
     "name": "stdout",
     "output_type": "stream",
     "text": [
      "texto\n"
     ]
    }
   ],
   "source": [
    "print('texto qualquer')"
   ]
  },
  {
   "cell_type": "code",
   "execution_count": null,
   "id": "6721a642",
   "metadata": {},
   "outputs": [],
   "source": []
  }
 ],
 "metadata": {
  "kernelspec": {
   "display_name": "Python 3 (ipykernel)",
   "language": "python",
   "name": "python3"
  },
  "language_info": {
   "codemirror_mode": {
    "name": "ipython",
    "version": 3
   },
   "file_extension": ".py",
   "mimetype": "text/x-python",
   "name": "python",
   "nbconvert_exporter": "python",
   "pygments_lexer": "ipython3",
   "version": "3.9.7"
  }
 },
 "nbformat": 4,
 "nbformat_minor": 5
}
